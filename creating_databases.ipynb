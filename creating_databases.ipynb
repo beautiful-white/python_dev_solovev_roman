{
 "cells": [
  {
   "cell_type": "markdown",
   "id": "d375a88e-bf43-48fe-a4c2-b3d6799b6e8f",
   "metadata": {},
   "source": [
    "# Первая БД"
   ]
  },
  {
   "cell_type": "code",
   "execution_count": 1,
   "id": "852659d0-810f-4166-938e-902bc6fd90f4",
   "metadata": {},
   "outputs": [],
   "source": [
    "import sqlite3 as sl"
   ]
  },
  {
   "cell_type": "code",
   "execution_count": 2,
   "id": "13ddeea6-06ab-415b-9993-94822560a3c2",
   "metadata": {},
   "outputs": [],
   "source": [
    "authors = sl.connect(\"authors_database.db\")"
   ]
  },
  {
   "cell_type": "code",
   "execution_count": 3,
   "id": "1e0a8230-1c3f-4632-b742-5e11bf8b8101",
   "metadata": {},
   "outputs": [],
   "source": [
    "cursor = authors.cursor()"
   ]
  },
  {
   "cell_type": "code",
   "execution_count": 4,
   "id": "d90d88c2-887d-47ed-8672-1270e4a52ee2",
   "metadata": {},
   "outputs": [
    {
     "data": {
      "text/plain": [
       "<sqlite3.Cursor at 0x767b0f505540>"
      ]
     },
     "execution_count": 4,
     "metadata": {},
     "output_type": "execute_result"
    }
   ],
   "source": [
    "cursor.execute('''\n",
    "CREATE TABLE author (\n",
    "    id INTEGER PRIMARY KEY AUTOINCREMENT,\n",
    "    login TEXT NOT NULL,\n",
    "    email TEXT NOT NULL\n",
    ");\n",
    "''')"
   ]
  },
  {
   "cell_type": "code",
   "execution_count": 5,
   "id": "654ff208-294b-4c68-bb47-b7766aa1b461",
   "metadata": {},
   "outputs": [
    {
     "data": {
      "text/plain": [
       "<sqlite3.Cursor at 0x767b0f505540>"
      ]
     },
     "execution_count": 5,
     "metadata": {},
     "output_type": "execute_result"
    }
   ],
   "source": [
    "cursor.execute('''\n",
    "CREATE TABLE blog (\n",
    "    id INTEGER PRIMARY KEY AUTOINCREMENT,\n",
    "    owner_id INTEGER NOT NULL,\n",
    "    name TEXT NOT NULL,\n",
    "    description TEXT,\n",
    "    FOREIGN KEY (owner_id) REFERENCES author(id)\n",
    ");\n",
    "''')"
   ]
  },
  {
   "cell_type": "code",
   "execution_count": 6,
   "id": "c11b8389-0b76-4e70-a930-0f426a3acdb3",
   "metadata": {},
   "outputs": [
    {
     "data": {
      "text/plain": [
       "<sqlite3.Cursor at 0x767b0f505540>"
      ]
     },
     "execution_count": 6,
     "metadata": {},
     "output_type": "execute_result"
    }
   ],
   "source": [
    "cursor.execute('''\n",
    "CREATE TABLE post (\n",
    "    id INTEGER PRIMARY KEY AUTOINCREMENT,\n",
    "    header TEXT NOT NULL,\n",
    "    text TEXT NOT NULL,\n",
    "    author_id INTEGER NOT NULL,\n",
    "    blog_id INTEGER NOT NULL,\n",
    "    FOREIGN KEY (author_id) REFERENCES author(id),\n",
    "    FOREIGN KEY (blog_id) REFERENCES blog(id)\n",
    ");\n",
    "''')"
   ]
  },
  {
   "cell_type": "code",
   "execution_count": 59,
   "id": "f8820950-7cda-4045-acd8-2cdf11feed7f",
   "metadata": {},
   "outputs": [
    {
     "ename": "ProgrammingError",
     "evalue": "Cannot operate on a closed database.",
     "output_type": "error",
     "traceback": [
      "\u001b[31m---------------------------------------------------------------------------\u001b[39m",
      "\u001b[31mProgrammingError\u001b[39m                          Traceback (most recent call last)",
      "\u001b[36mCell\u001b[39m\u001b[36m \u001b[39m\u001b[32mIn[59]\u001b[39m\u001b[32m, line 1\u001b[39m\n\u001b[32m----> \u001b[39m\u001b[32m1\u001b[39m \u001b[43mcursor\u001b[49m\u001b[43m.\u001b[49m\u001b[43mexecute\u001b[49m\u001b[43m(\u001b[49m\u001b[33;43m'''\u001b[39;49m\n\u001b[32m      2\u001b[39m \u001b[33;43mCREATE TABLE post (\u001b[39;49m\n\u001b[32m      3\u001b[39m \u001b[33;43m    id INTEGER PRIMARY KEY AUTOINCREMENT,\u001b[39;49m\n\u001b[32m      4\u001b[39m \u001b[33;43m    text TEXT NOT NULL,\u001b[39;49m\n\u001b[32m      5\u001b[39m \u001b[33;43m    author_id INTEGER NOT NULL,\u001b[39;49m\n\u001b[32m      6\u001b[39m \u001b[33;43m    post_id INTEGER NOT NULL,\u001b[39;49m\n\u001b[32m      7\u001b[39m \u001b[33;43m    FOREIGN KEY (author_id) REFERENCES author(id),\u001b[39;49m\n\u001b[32m      8\u001b[39m \u001b[33;43m    FOREIGN KEY (post_id) REFERENCES post(id)\u001b[39;49m\n\u001b[32m      9\u001b[39m \u001b[33;43m);\u001b[39;49m\n\u001b[32m     10\u001b[39m \u001b[33;43m'''\u001b[39;49m\u001b[43m)\u001b[49m\n",
      "\u001b[31mProgrammingError\u001b[39m: Cannot operate on a closed database."
     ]
    }
   ],
   "source": [
    "# По заданию нужны сообщения, пришлось собрать еще одну табличку, связанную с постом\n",
    "cursor.execute('''\n",
    "CREATE TABLE message (\n",
    "    id INTEGER PRIMARY KEY AUTOINCREMENT,\n",
    "    text TEXT NOT NULL,\n",
    "    author_id INTEGER NOT NULL,\n",
    "    post_id INTEGER NOT NULL,\n",
    "    FOREIGN KEY (author_id) REFERENCES author(id),\n",
    "    FOREIGN KEY (post_id) REFERENCES post(id)\n",
    ");\n",
    "''')"
   ]
  },
  {
   "cell_type": "code",
   "execution_count": 7,
   "id": "cfc29c98-0f78-401c-b6ed-ba801e9dfd64",
   "metadata": {},
   "outputs": [],
   "source": [
    "authors.commit()\n",
    "authors.close()"
   ]
  },
  {
   "cell_type": "markdown",
   "id": "a368fdb4-d9c2-4236-b161-0330d225aecd",
   "metadata": {},
   "source": [
    "# Делаем вторую бд"
   ]
  },
  {
   "cell_type": "code",
   "execution_count": 8,
   "id": "0e6532b8-7a7b-4881-a9f5-5c6e75616c2f",
   "metadata": {},
   "outputs": [],
   "source": [
    "logs = sl.connect(\"logs_database.db\")"
   ]
  },
  {
   "cell_type": "code",
   "execution_count": 9,
   "id": "12afa6a3-fd42-4c82-af6f-e7718103ab03",
   "metadata": {},
   "outputs": [],
   "source": [
    "cursor = logs.cursor()"
   ]
  },
  {
   "cell_type": "code",
   "execution_count": 10,
   "id": "4cc34b83-c3e0-4b01-a21b-ded353210428",
   "metadata": {},
   "outputs": [
    {
     "data": {
      "text/plain": [
       "<sqlite3.Cursor at 0x767b0f504fc0>"
      ]
     },
     "execution_count": 10,
     "metadata": {},
     "output_type": "execute_result"
    }
   ],
   "source": [
    "cursor.execute('''\n",
    "CREATE TABLE space_type (\n",
    "    id INTEGER PRIMARY KEY AUTOINCREMENT,\n",
    "    name TEXT NOT NULL\n",
    ");\n",
    "''')"
   ]
  },
  {
   "cell_type": "code",
   "execution_count": 11,
   "id": "6aebdb65-cac9-4abb-9af9-07a2de7b0fc3",
   "metadata": {},
   "outputs": [
    {
     "data": {
      "text/plain": [
       "<sqlite3.Cursor at 0x767b0f504fc0>"
      ]
     },
     "execution_count": 11,
     "metadata": {},
     "output_type": "execute_result"
    }
   ],
   "source": [
    "cursor.execute('''\n",
    "INSERT INTO space_type (name) VALUES ('global'), ('blog'), ('post');\n",
    "''')"
   ]
  },
  {
   "cell_type": "code",
   "execution_count": 12,
   "id": "b3364a02-e6d2-4dcd-8b8e-5659046de6c0",
   "metadata": {},
   "outputs": [
    {
     "data": {
      "text/plain": [
       "<sqlite3.Cursor at 0x767b0f504fc0>"
      ]
     },
     "execution_count": 12,
     "metadata": {},
     "output_type": "execute_result"
    }
   ],
   "source": [
    "cursor.execute('''\n",
    "CREATE TABLE event_type (\n",
    "    id INTEGER PRIMARY KEY AUTOINCREMENT,\n",
    "    name TEXT NOT NULL\n",
    ");\n",
    "''')"
   ]
  },
  {
   "cell_type": "code",
   "execution_count": 13,
   "id": "f2b90ae7-f7f9-4a30-987c-b26672bf812c",
   "metadata": {},
   "outputs": [
    {
     "data": {
      "text/plain": [
       "<sqlite3.Cursor at 0x767b0f504fc0>"
      ]
     },
     "execution_count": 13,
     "metadata": {},
     "output_type": "execute_result"
    }
   ],
   "source": [
    "cursor.execute('''\n",
    "INSERT INTO event_type (name) VALUES ('login'), ('comment'), ('create_post'), ('delete_post'), ('logout');\n",
    "''')"
   ]
  },
  {
   "cell_type": "code",
   "execution_count": 14,
   "id": "3061bab5-7499-4f65-87c6-c4ee7ac7cc72",
   "metadata": {},
   "outputs": [
    {
     "data": {
      "text/plain": [
       "<sqlite3.Cursor at 0x767b0f504fc0>"
      ]
     },
     "execution_count": 14,
     "metadata": {},
     "output_type": "execute_result"
    }
   ],
   "source": [
    "cursor.execute('''\n",
    "CREATE TABLE logs (\n",
    "    id INTEGER PRIMARY KEY AUTOINCREMENT,\n",
    "    datetime DATETIME NOT NULL,\n",
    "    user_id INTEGER NOT NULL,\n",
    "    space_type_id INTEGER NOT NULL,\n",
    "    event_type_id INTEGER NOT NULL,\n",
    "    FOREIGN KEY (space_type_id) REFERENCES space_type(id),\n",
    "    FOREIGN KEY (event_type_id) REFERENCES event_type(id)\n",
    ");\n",
    "''')"
   ]
  },
  {
   "cell_type": "code",
   "execution_count": 15,
   "id": "4290eeba-c3b0-465f-9916-8be448521d77",
   "metadata": {},
   "outputs": [],
   "source": [
    "logs.commit()\n",
    "logs.close()"
   ]
  },
  {
   "cell_type": "markdown",
   "id": "9059407d-80db-4da5-a364-60245fbb81dc",
   "metadata": {},
   "source": [
    "# Заполним первую базу данных с пользователями, блогами и постами"
   ]
  },
  {
   "cell_type": "code",
   "execution_count": 16,
   "id": "69c6b58d-9a43-42a4-a5d5-fff639947fa1",
   "metadata": {},
   "outputs": [],
   "source": [
    "authors = sl.connect(\"authors_database.db\")\n",
    "cursor = authors.cursor()"
   ]
  },
  {
   "cell_type": "code",
   "execution_count": 17,
   "id": "23460ac5-d9a0-4e74-807c-6df00e6301a9",
   "metadata": {},
   "outputs": [
    {
     "data": {
      "text/plain": [
       "<sqlite3.Cursor at 0x767b0f5054c0>"
      ]
     },
     "execution_count": 17,
     "metadata": {},
     "output_type": "execute_result"
    }
   ],
   "source": [
    "for i in range(10):\n",
    "    cursor.execute(f'''\n",
    "    INSERT INTO author (login, email) VALUES ('test_user{i}', 'test{i}@example.com');\n",
    "    ''')"
   ]
  },
  {
   "cell_type": "code",
   "execution_count": 18,
   "id": "27bc0553-2508-4787-9c4b-2947d6b80563",
   "metadata": {},
   "outputs": [
    {
     "data": {
      "text/plain": [
       "<sqlite3.Cursor at 0x767b0f5054c0>"
      ]
     },
     "execution_count": 18,
     "metadata": {},
     "output_type": "execute_result"
    }
   ],
   "source": [
    "for i in range(10):\n",
    "    cursor.execute(f'''\n",
    "    INSERT INTO blog (owner_id, name, description) VALUES (\n",
    "        (SELECT id from author where login='test_user{i}'),\n",
    "        'Blog test {i}',\n",
    "        'Lorem ipsum, i love pancakes and i love my mother, therefore my mother is a pancake'\n",
    "    );\n",
    "    ''')"
   ]
  },
  {
   "cell_type": "code",
   "execution_count": 19,
   "id": "64348db4-c54e-425f-85b5-39c9f42eb61b",
   "metadata": {},
   "outputs": [
    {
     "data": {
      "text/plain": [
       "<sqlite3.Cursor at 0x767b0f5054c0>"
      ]
     },
     "execution_count": 19,
     "metadata": {},
     "output_type": "execute_result"
    }
   ],
   "source": [
    "cursor.execute('''\n",
    "INSERT INTO post (header, text, author_id, blog_id) VALUES (\n",
    "    'First post',\n",
    "    'First text post lol',\n",
    "    (SELECT id from author where login='test_user'),\n",
    "    (SELECT id from blog where name='Blog test 1')\n",
    "\n",
    ");\n",
    "''')"
   ]
  },
  {
   "cell_type": "code",
   "execution_count": 20,
   "id": "c0a5eb7a-f8cd-449d-814c-90fddc642b52",
   "metadata": {},
   "outputs": [],
   "source": [
    "authors.commit()\n",
    "authors.close()"
   ]
  },
  {
   "cell_type": "markdown",
   "id": "e8850a45-2137-4917-8332-ca40864cfd0c",
   "metadata": {},
   "source": [
    "# Заполним вторую базу данных"
   ]
  },
  {
   "cell_type": "code",
   "execution_count": 21,
   "id": "6d10bccc-eef8-4635-a38b-ef76f6ffecf0",
   "metadata": {},
   "outputs": [],
   "source": [
    "logs = sl.connect(\"logs_database.db\")\n",
    "cursor = logs.cursor()"
   ]
  },
  {
   "cell_type": "code",
   "execution_count": 22,
   "id": "0e462c85-4d6d-49ed-994a-bf1ea995d7be",
   "metadata": {},
   "outputs": [
    {
     "data": {
      "text/plain": [
       "<sqlite3.Cursor at 0x767b0f506cc0>"
      ]
     },
     "execution_count": 22,
     "metadata": {},
     "output_type": "execute_result"
    }
   ],
   "source": [
    "cursor.execute('''\n",
    "INSERT INTO logs (datetime, user_id, space_type_id, event_type_id) VALUES (\n",
    "    '2025-03-01 15:00:00',\n",
    "    1,\n",
    "    (SELECT id FROM space_type WHERE name = 'global'),\n",
    "    (SELECT id FROM event_type WHERE name = 'login')\n",
    ");\n",
    "''')"
   ]
  },
  {
   "cell_type": "code",
   "execution_count": 23,
   "id": "9f3c73d0-06e6-4f10-86c5-07b59a1a79f0",
   "metadata": {},
   "outputs": [
    {
     "data": {
      "text/plain": [
       "<sqlite3.Cursor at 0x767b0f506cc0>"
      ]
     },
     "execution_count": 23,
     "metadata": {},
     "output_type": "execute_result"
    }
   ],
   "source": [
    "cursor.execute('''\n",
    "INSERT INTO logs (datetime, user_id, space_type_id, event_type_id) VALUES (\n",
    "    '2025-03-01 15:00:01',\n",
    "    1,\n",
    "    (SELECT id FROM space_type WHERE name = 'global'),\n",
    "    (SELECT id FROM event_type WHERE name = 'logout')\n",
    ");\n",
    "''')"
   ]
  },
  {
   "cell_type": "code",
   "execution_count": 24,
   "id": "4474fb05-37fa-4043-8d7a-6266153477b6",
   "metadata": {},
   "outputs": [],
   "source": [
    "logs.commit()\n",
    "logs.close()"
   ]
  },
  {
   "cell_type": "markdown",
   "id": "eda0a3a9-9273-4553-8a70-92f87f0c79e3",
   "metadata": {},
   "source": [
    "# Заполним базы данных"
   ]
  },
  {
   "cell_type": "code",
   "execution_count": 49,
   "id": "043dab3e-72ec-4a72-84f9-e926d269345d",
   "metadata": {},
   "outputs": [],
   "source": [
    "from datetime import datetime as dt\n",
    "import random\n",
    "\n",
    "authors = sl.connect(\"authors_database.db\")\n",
    "auth = authors.cursor()\n",
    "\n",
    "logs = sl.connect(\"logs_database.db\")\n",
    "log = logs.cursor()\n",
    "\n",
    "def getDatetimeInRightWay():\n",
    "    return dt.now().strftime(\"%Y-%m-%d %H:%M:%S\")\n",
    "\n",
    "def isLoginInBase(login: str):\n",
    "    auth.execute(f'''\n",
    "    SELECT * FROM author WHERE login = ?\n",
    "    ''', (login,))\n",
    "    return auth.fetchall()\n",
    "\n",
    "def setLoginInBase(login: str, email: str = \"\"):\n",
    "    if not email: email = f\"{login}@mail.ru\"\n",
    "    auth.execute('''\n",
    "    INSERT INTO author (login, email) VALUES (?, ?);\n",
    "    ''', (login, email))\n",
    "    return authors.commit()\n",
    "\n",
    "\n",
    "\n",
    "def createBlog(login: str, name: str, description: str):\n",
    "    if not isLoginInBase(login):\n",
    "        setLoginInBase(login)\n",
    "    auth.execute('''\n",
    "    INSERT INTO blog (owner_id, name, description) VALUES (\n",
    "        (SELECT id from author where login = ?),\n",
    "        ?,\n",
    "        ?\n",
    "    );\n",
    "    ''', (login, name, description))\n",
    "    \n",
    "    return authors.commit()\n",
    "\n",
    "\n",
    "# Вот тут я немного не понял, вроде как были только посты, блог и пользователи, откуда взялись комменты - вопрос интересный.\n",
    "def createPost(login: str, header: str, test: str, blog_id: int):\n",
    "    authors.commit('''\n",
    "    INSERT INTO post (header, text, author_id, blog_id) VALUES (\n",
    "        ?,\n",
    "        ?,\n",
    "        (SELECT id from author where login = ?),\n",
    "        ?\n",
    "    );\n",
    "    ''', (headr, text, login, blog_id))\n",
    "    \n"
   ]
  },
  {
   "cell_type": "code",
   "execution_count": 48,
   "id": "8db1cd6d-c770-41e2-bc55-602710554004",
   "metadata": {},
   "outputs": [],
   "source": []
  },
  {
   "cell_type": "code",
   "execution_count": 56,
   "id": "75c11eaf-2a27-4aa9-aa35-8c7b5cadf879",
   "metadata": {},
   "outputs": [],
   "source": []
  },
  {
   "cell_type": "code",
   "execution_count": 46,
   "id": "49b037c1-2db9-4d5c-bc55-a976f8b07543",
   "metadata": {},
   "outputs": [
    {
     "ename": "NameError",
     "evalue": "name 'q' is not defined",
     "output_type": "error",
     "traceback": [
      "\u001b[31m---------------------------------------------------------------------------\u001b[39m",
      "\u001b[31mNameError\u001b[39m                                 Traceback (most recent call last)",
      "\u001b[36mCell\u001b[39m\u001b[36m \u001b[39m\u001b[32mIn[46]\u001b[39m\u001b[32m, line 1\u001b[39m\n\u001b[32m----> \u001b[39m\u001b[32m1\u001b[39m \u001b[43mq\u001b[49m\n",
      "\u001b[31mNameError\u001b[39m: name 'q' is not defined"
     ]
    }
   ],
   "source": []
  },
  {
   "cell_type": "code",
   "execution_count": 58,
   "id": "0fa7c890-a986-4ef9-8552-0372cb889e25",
   "metadata": {},
   "outputs": [
    {
     "data": {
      "text/plain": [
       "[(1, 'test_user', 'test@example.com')]"
      ]
     },
     "execution_count": 58,
     "metadata": {},
     "output_type": "execute_result"
    }
   ],
   "source": [
    "\\"
   ]
  },
  {
   "cell_type": "code",
   "execution_count": null,
   "id": "f0961125-e66a-424f-9188-27d9de287298",
   "metadata": {},
   "outputs": [],
   "source": []
  }
 ],
 "metadata": {
  "kernelspec": {
   "display_name": "Python 3 (ipykernel)",
   "language": "python",
   "name": "python3"
  },
  "language_info": {
   "codemirror_mode": {
    "name": "ipython",
    "version": 3
   },
   "file_extension": ".py",
   "mimetype": "text/x-python",
   "name": "python",
   "nbconvert_exporter": "python",
   "pygments_lexer": "ipython3",
   "version": "3.13.1"
  }
 },
 "nbformat": 4,
 "nbformat_minor": 5
}
