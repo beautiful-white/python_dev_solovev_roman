{
 "cells": [
  {
   "cell_type": "markdown",
   "id": "d375a88e-bf43-48fe-a4c2-b3d6799b6e8f",
   "metadata": {},
   "source": [
    "# Первая БД"
   ]
  },
  {
   "cell_type": "code",
   "execution_count": 1,
   "id": "852659d0-810f-4166-938e-902bc6fd90f4",
   "metadata": {},
   "outputs": [],
   "source": [
    "import sqlite3 as sl"
   ]
  },
  {
   "cell_type": "code",
   "execution_count": 2,
   "id": "13ddeea6-06ab-415b-9993-94822560a3c2",
   "metadata": {},
   "outputs": [],
   "source": [
    "authors = sl.connect(\"authors_database.db\")"
   ]
  },
  {
   "cell_type": "code",
   "execution_count": 3,
   "id": "1e0a8230-1c3f-4632-b742-5e11bf8b8101",
   "metadata": {},
   "outputs": [
    {
     "data": {
      "text/plain": [
       "<sqlite3.Cursor at 0x72df29b11bc0>"
      ]
     },
     "execution_count": 3,
     "metadata": {},
     "output_type": "execute_result"
    }
   ],
   "source": [
    "cursor = authors.cursor()\n",
    "cursor.execute(\"PRAGMA foreign_keys = ON;\")"
   ]
  },
  {
   "cell_type": "code",
   "execution_count": 4,
   "id": "d90d88c2-887d-47ed-8672-1270e4a52ee2",
   "metadata": {},
   "outputs": [
    {
     "data": {
      "text/plain": [
       "<sqlite3.Cursor at 0x72df29b11bc0>"
      ]
     },
     "execution_count": 4,
     "metadata": {},
     "output_type": "execute_result"
    }
   ],
   "source": [
    "cursor.execute('''\n",
    "CREATE TABLE author (\n",
    "    id INTEGER PRIMARY KEY AUTOINCREMENT,\n",
    "    login TEXT NOT NULL,\n",
    "    email TEXT NOT NULL\n",
    ");\n",
    "''')"
   ]
  },
  {
   "cell_type": "code",
   "execution_count": 5,
   "id": "654ff208-294b-4c68-bb47-b7766aa1b461",
   "metadata": {},
   "outputs": [
    {
     "data": {
      "text/plain": [
       "<sqlite3.Cursor at 0x72df29b11bc0>"
      ]
     },
     "execution_count": 5,
     "metadata": {},
     "output_type": "execute_result"
    }
   ],
   "source": [
    "cursor.execute('''\n",
    "CREATE TABLE blog (\n",
    "    id INTEGER PRIMARY KEY AUTOINCREMENT,\n",
    "    owner_id INTEGER NOT NULL,\n",
    "    name TEXT NOT NULL,\n",
    "    description TEXT,\n",
    "    FOREIGN KEY (owner_id) REFERENCES author(id)\n",
    ");\n",
    "''')"
   ]
  },
  {
   "cell_type": "code",
   "execution_count": 6,
   "id": "c11b8389-0b76-4e70-a930-0f426a3acdb3",
   "metadata": {},
   "outputs": [
    {
     "data": {
      "text/plain": [
       "<sqlite3.Cursor at 0x72df29b11bc0>"
      ]
     },
     "execution_count": 6,
     "metadata": {},
     "output_type": "execute_result"
    }
   ],
   "source": [
    "cursor.execute('''\n",
    "CREATE TABLE post (\n",
    "    id INTEGER PRIMARY KEY AUTOINCREMENT,\n",
    "    header TEXT NOT NULL,\n",
    "    text TEXT NOT NULL,\n",
    "    author_id INTEGER NOT NULL,\n",
    "    blog_id INTEGER NOT NULL,\n",
    "    FOREIGN KEY (author_id) REFERENCES author(id),\n",
    "    FOREIGN KEY (blog_id) REFERENCES blog(id)\n",
    ");\n",
    "''')"
   ]
  },
  {
   "cell_type": "code",
   "execution_count": 7,
   "id": "f8820950-7cda-4045-acd8-2cdf11feed7f",
   "metadata": {},
   "outputs": [
    {
     "data": {
      "text/plain": [
       "<sqlite3.Cursor at 0x72df29b11bc0>"
      ]
     },
     "execution_count": 7,
     "metadata": {},
     "output_type": "execute_result"
    }
   ],
   "source": [
    "# По заданию нужны сообщения, пришлось собрать еще одну табличку, связанную с постом\n",
    "cursor.execute('''\n",
    "CREATE TABLE comment (\n",
    "    id INTEGER PRIMARY KEY AUTOINCREMENT,\n",
    "    text TEXT NOT NULL,\n",
    "    author_id INTEGER NOT NULL,\n",
    "    post_id INTEGER NOT NULL,\n",
    "    FOREIGN KEY (author_id) REFERENCES author(id) ON DELETE CASCADE,\n",
    "    FOREIGN KEY (post_id) REFERENCES post(id) ON DELETE CASCADE\n",
    ");\n",
    "''')"
   ]
  },
  {
   "cell_type": "code",
   "execution_count": 8,
   "id": "cfc29c98-0f78-401c-b6ed-ba801e9dfd64",
   "metadata": {},
   "outputs": [],
   "source": [
    "authors.commit()\n",
    "authors.close()"
   ]
  },
  {
   "cell_type": "markdown",
   "id": "a368fdb4-d9c2-4236-b161-0330d225aecd",
   "metadata": {},
   "source": [
    "# Делаем вторую бд "
   ]
  },
  {
   "cell_type": "code",
   "execution_count": 9,
   "id": "0e6532b8-7a7b-4881-a9f5-5c6e75616c2f",
   "metadata": {},
   "outputs": [],
   "source": [
    "logs = sl.connect(\"logs_database.db\")"
   ]
  },
  {
   "cell_type": "code",
   "execution_count": 10,
   "id": "12afa6a3-fd42-4c82-af6f-e7718103ab03",
   "metadata": {},
   "outputs": [
    {
     "data": {
      "text/plain": [
       "<sqlite3.Cursor at 0x72df29b12440>"
      ]
     },
     "execution_count": 10,
     "metadata": {},
     "output_type": "execute_result"
    }
   ],
   "source": [
    "cursor = logs.cursor()\n",
    "cursor.execute(\"PRAGMA foreign_keys = ON;\")"
   ]
  },
  {
   "cell_type": "code",
   "execution_count": 11,
   "id": "4cc34b83-c3e0-4b01-a21b-ded353210428",
   "metadata": {},
   "outputs": [
    {
     "data": {
      "text/plain": [
       "<sqlite3.Cursor at 0x72df29b12440>"
      ]
     },
     "execution_count": 11,
     "metadata": {},
     "output_type": "execute_result"
    }
   ],
   "source": [
    "cursor.execute('''\n",
    "CREATE TABLE space_type (\n",
    "    id INTEGER PRIMARY KEY AUTOINCREMENT,\n",
    "    name TEXT NOT NULL\n",
    ");\n",
    "''')"
   ]
  },
  {
   "cell_type": "code",
   "execution_count": 12,
   "id": "6aebdb65-cac9-4abb-9af9-07a2de7b0fc3",
   "metadata": {},
   "outputs": [
    {
     "data": {
      "text/plain": [
       "<sqlite3.Cursor at 0x72df29b12440>"
      ]
     },
     "execution_count": 12,
     "metadata": {},
     "output_type": "execute_result"
    }
   ],
   "source": [
    "cursor.execute('''\n",
    "INSERT INTO space_type (name) VALUES ('global'), ('blog'), ('post');\n",
    "''')"
   ]
  },
  {
   "cell_type": "code",
   "execution_count": 13,
   "id": "b3364a02-e6d2-4dcd-8b8e-5659046de6c0",
   "metadata": {},
   "outputs": [
    {
     "data": {
      "text/plain": [
       "<sqlite3.Cursor at 0x72df29b12440>"
      ]
     },
     "execution_count": 13,
     "metadata": {},
     "output_type": "execute_result"
    }
   ],
   "source": [
    "cursor.execute('''\n",
    "CREATE TABLE event_type (\n",
    "    id INTEGER PRIMARY KEY AUTOINCREMENT,\n",
    "    name TEXT NOT NULL\n",
    ");\n",
    "''')"
   ]
  },
  {
   "cell_type": "code",
   "execution_count": 14,
   "id": "f2b90ae7-f7f9-4a30-987c-b26672bf812c",
   "metadata": {},
   "outputs": [
    {
     "data": {
      "text/plain": [
       "<sqlite3.Cursor at 0x72df29b12440>"
      ]
     },
     "execution_count": 14,
     "metadata": {},
     "output_type": "execute_result"
    }
   ],
   "source": [
    "cursor.execute('''\n",
    "INSERT INTO event_type (name) VALUES ('login'), ('comment'), ('create_post'), ('delete_post'), ('logout');\n",
    "''')"
   ]
  },
  {
   "cell_type": "code",
   "execution_count": 15,
   "id": "3061bab5-7499-4f65-87c6-c4ee7ac7cc72",
   "metadata": {},
   "outputs": [
    {
     "data": {
      "text/plain": [
       "<sqlite3.Cursor at 0x72df29b12440>"
      ]
     },
     "execution_count": 15,
     "metadata": {},
     "output_type": "execute_result"
    }
   ],
   "source": [
    "cursor.execute('''\n",
    "CREATE TABLE logs (\n",
    "    id INTEGER PRIMARY KEY AUTOINCREMENT,\n",
    "    datetime DATETIME NOT NULL,\n",
    "    user_id INTEGER NOT NULL,\n",
    "    space_type_id INTEGER NOT NULL,\n",
    "    event_type_id INTEGER NOT NULL,\n",
    "    FOREIGN KEY (space_type_id) REFERENCES space_type(id),\n",
    "    FOREIGN KEY (event_type_id) REFERENCES event_type(id)\n",
    ");\n",
    "''')"
   ]
  },
  {
   "cell_type": "code",
   "execution_count": 16,
   "id": "4290eeba-c3b0-465f-9916-8be448521d77",
   "metadata": {},
   "outputs": [],
   "source": [
    "logs.commit()\n",
    "logs.close()"
   ]
  },
  {
   "cell_type": "markdown",
   "id": "ce241f72-cef1-4aff-aad5-df90517654da",
   "metadata": {},
   "source": [
    "# Заполняем базы тестовыми значениями"
   ]
  },
  {
   "cell_type": "code",
   "execution_count": 17,
   "id": "043dab3e-72ec-4a72-84f9-e926d269345d",
   "metadata": {},
   "outputs": [],
   "source": [
    "from datetime import datetime as dt\n",
    "import random\n",
    "\n",
    "authors = sl.connect(\"authors_database.db\")\n",
    "auth = authors.cursor()\n",
    "\n",
    "logs = sl.connect(\"logs_database.db\")\n",
    "log = logs.cursor()\n",
    "\n",
    "# login\n",
    "# comment\n",
    "# create_post\n",
    "# delete_post\n",
    "# logout\n",
    "\n",
    "class logger:\n",
    "    @staticmethod\n",
    "    def createPost(login: str):\n",
    "        auth.execute('''\n",
    "        SELECT * FROM author WHERE login = ?\n",
    "        ''', (login, ))\n",
    "        id = auth.fetchall()[0][0]\n",
    "        log.execute('''\n",
    "        INSERT INTO logs (datetime, user_id, space_type_id, event_type_id) VALUES (\n",
    "            ?,\n",
    "            ?,\n",
    "            (SELECT id FROM space_type WHERE name = 'blog'),\n",
    "            (SELECT id FROM event_type WHERE name = 'create_post')\n",
    "        );\n",
    "        ''', (getDatetimeInRightWay(), id))\n",
    "        logs.commit()\n",
    "\n",
    "    @staticmethod\n",
    "    def deletePost(login: str):\n",
    "        auth.execute('''\n",
    "        SELECT * FROM author WHERE login = ?\n",
    "        ''', (login, ))\n",
    "        id = auth.fetchall()[0][0]\n",
    "        log.execute('''\n",
    "        INSERT INTO logs (datetime, user_id, space_type_id, event_type_id) VALUES (\n",
    "            ?,\n",
    "            ?,\n",
    "            (SELECT id FROM space_type WHERE name = 'blog'),\n",
    "            (SELECT id FROM event_type WHERE name = 'delete_post')\n",
    "        );\n",
    "        ''', (getDatetimeInRightWay(), id))\n",
    "        logs.commit()\n",
    "\n",
    "    @staticmethod\n",
    "    def login(_login: str):\n",
    "        auth.execute('''\n",
    "        SELECT * FROM author WHERE login = ?\n",
    "        ''', (_login, ))\n",
    "        id = auth.fetchall()[0][0]\n",
    "        log.execute('''\n",
    "        INSERT INTO logs (datetime, user_id, space_type_id, event_type_id) VALUES (\n",
    "            ?,\n",
    "            ?,\n",
    "            (SELECT id FROM space_type WHERE name = 'global'),\n",
    "            (SELECT id FROM event_type WHERE name = 'login')\n",
    "        );\n",
    "        ''', (getDatetimeInRightWay(), id))\n",
    "        logs.commit()\n",
    "\n",
    "    @staticmethod\n",
    "    def logout(_login: str):\n",
    "        auth.execute('''\n",
    "        SELECT * FROM author WHERE login = ?\n",
    "        ''', (_login, ))\n",
    "        id = auth.fetchall()[0][0]\n",
    "        log.execute('''\n",
    "        INSERT INTO logs (datetime, user_id, space_type_id, event_type_id) VALUES (\n",
    "            ?,\n",
    "            ?,\n",
    "            (SELECT id FROM space_type WHERE name = 'global'),\n",
    "            (SELECT id FROM event_type WHERE name = 'logout')\n",
    "        );\n",
    "        ''', (getDatetimeInRightWay(), id))\n",
    "        logs.commit()\n",
    "\n",
    "    @staticmethod\n",
    "    def comment(login: str):\n",
    "        auth.execute('''\n",
    "        SELECT * FROM author WHERE login = ?\n",
    "        ''', (login, ))\n",
    "        id = auth.fetchall()[0][0]\n",
    "        log.execute('''\n",
    "        INSERT INTO logs (datetime, user_id, space_type_id, event_type_id) VALUES (\n",
    "            ?,\n",
    "            ?,\n",
    "            (SELECT id FROM space_type WHERE name = 'post'),\n",
    "            (SELECT id FROM event_type WHERE name = 'comment')\n",
    "        );\n",
    "        ''', (getDatetimeInRightWay(), id))\n",
    "        logs.commit()\n",
    "\n",
    "def getDatetimeInRightWay():\n",
    "    return dt.now().strftime(\"%Y-%m-%d %H:%M:%S\")\n",
    "\n",
    "def isLoginInBase(login: str):\n",
    "    auth.execute(f'''\n",
    "    SELECT * FROM author WHERE login = ?\n",
    "    ''', (login,))\n",
    "    return auth.fetchall()\n",
    "\n",
    "def setLoginInBase(login: str, email: str = \"\"):\n",
    "    if not email: email = f\"{login}@mail.ru\"\n",
    "    auth.execute('''\n",
    "    INSERT INTO author (login, email) VALUES (?, ?);\n",
    "    ''', (login, email))\n",
    "    return authors.commit()\n",
    "\n",
    "\n",
    "def createBlog(login: str, name: str, description: str):\n",
    "    if not isLoginInBase(login):\n",
    "        setLoginInBase(login)\n",
    "    auth.execute('''\n",
    "    INSERT INTO blog (owner_id, name, description) VALUES (\n",
    "        (SELECT id from author where login = ?),\n",
    "        ?,\n",
    "        ?\n",
    "    );\n",
    "    ''', (login, name, description))\n",
    "    \n",
    "    return authors.commit()\n",
    "\n",
    "\n",
    "# Вот тут я немного не понял, вроде как были только посты, блог и пользователи, откуда взялись комменты - вопрос интересный.\n",
    "def createPost(login: str, header: str, text: str, blog_name: int):\n",
    "    if not isLoginInBase(login):\n",
    "        setLoginInBase(login)\n",
    "    \n",
    "    logger.createPost(login) #logger\n",
    "    \n",
    "    auth.execute('''\n",
    "    INSERT INTO post (header, text, author_id, blog_id) VALUES (\n",
    "        ?,\n",
    "        ?,\n",
    "        (SELECT id from author where login = ?),\n",
    "        (SELECT id from blog where name = ?)\n",
    "    );\n",
    "    ''', (header, text, login, blog_name))\n",
    "    return authors.commit()\n",
    "\n",
    "\n",
    "# Да-да, хедеры могут быть не уникальные, так просто проще реализовать простотип\n",
    "def deletePost(login: str, header: str):\n",
    "    if not isLoginInBase(login):\n",
    "        setLoginInBase(login)\n",
    "    \n",
    "    logger.deletePost(login) #logger\n",
    "    \n",
    "    auth.execute('''\n",
    "    DELETE FROM post WHERE id = (SELECT id FROM post WHERE header = ?);\n",
    "    ''', (header,))\n",
    "    return authors.commit()\n",
    "\n",
    "def createComment(login: str, text: str, post_header: str):\n",
    "    if not isLoginInBase(login):\n",
    "        setLoginInBase(login)\n",
    "\n",
    "    logger.comment(login) #logger\n",
    "\n",
    "    auth.execute('''\n",
    "    INSERT INTO comment (text, author_id, post_id) VALUES (\n",
    "        ?,\n",
    "        (SELECT id from author where login = ?),\n",
    "        (SELECT id from post WHERE header = ?)\n",
    "    );\n",
    "    ''', (text, login, post_header))\n",
    "    return authors.commit()\n",
    "\n",
    "def login_foo(login: str):\n",
    "    if not isLoginInBase(login):\n",
    "        setLoginInBase(login)\n",
    "\n",
    "    logger.login(login) #logger\n",
    "\n",
    "def logout(login: str):\n",
    "    if not isLoginInBase(login):\n",
    "        setLoginInBase(login)\n",
    "\n",
    "    logger.logout(login) #logger\n",
    "\n",
    "\n",
    "for i in range(100):\n",
    "    login = format(random.getrandbits(64), \"x\")\n",
    "    login_foo(login)\n",
    "    if random.choice([0, 1]):\n",
    "        createBlog(login, login + \"_name\", \"All about \" + login)\n",
    "        createPost(login, login + \"_post\", login + \" thinks that...\", login + \"_name\")\n",
    "        if random.choice([0, 1]):\n",
    "            deletePost(login, login + \"_post\")\n",
    "        else:\n",
    "            createComment(login, login + \"_text\", login + \"_post\")\n",
    "    logout(login)\n",
    "\n",
    "logs.close()\n",
    "authors.close()"
   ]
  },
  {
   "cell_type": "code",
   "execution_count": null,
   "id": "8db1cd6d-c770-41e2-bc55-602710554004",
   "metadata": {},
   "outputs": [],
   "source": []
  },
  {
   "cell_type": "code",
   "execution_count": null,
   "id": "75c11eaf-2a27-4aa9-aa35-8c7b5cadf879",
   "metadata": {},
   "outputs": [],
   "source": []
  },
  {
   "cell_type": "code",
   "execution_count": null,
   "id": "49b037c1-2db9-4d5c-bc55-a976f8b07543",
   "metadata": {},
   "outputs": [],
   "source": []
  },
  {
   "cell_type": "code",
   "execution_count": null,
   "id": "0fa7c890-a986-4ef9-8552-0372cb889e25",
   "metadata": {},
   "outputs": [],
   "source": []
  },
  {
   "cell_type": "code",
   "execution_count": null,
   "id": "f0961125-e66a-424f-9188-27d9de287298",
   "metadata": {},
   "outputs": [],
   "source": []
  }
 ],
 "metadata": {
  "kernelspec": {
   "display_name": "Python 3 (ipykernel)",
   "language": "python",
   "name": "python3"
  },
  "language_info": {
   "codemirror_mode": {
    "name": "ipython",
    "version": 3
   },
   "file_extension": ".py",
   "mimetype": "text/x-python",
   "name": "python",
   "nbconvert_exporter": "python",
   "pygments_lexer": "ipython3",
   "version": "3.13.1"
  }
 },
 "nbformat": 4,
 "nbformat_minor": 5
}
