{
 "cells": [
  {
   "cell_type": "code",
   "execution_count": 2,
   "id": "852659d0-810f-4166-938e-902bc6fd90f4",
   "metadata": {},
   "outputs": [],
   "source": [
    "import sqlite3 as sl"
   ]
  },
  {
   "cell_type": "code",
   "execution_count": 3,
   "id": "13ddeea6-06ab-415b-9993-94822560a3c2",
   "metadata": {},
   "outputs": [],
   "source": [
    "authors = sl.connect(\"authors_database.db\")"
   ]
  },
  {
   "cell_type": "code",
   "execution_count": 4,
   "id": "1e0a8230-1c3f-4632-b742-5e11bf8b8101",
   "metadata": {},
   "outputs": [],
   "source": [
    "cursor = authors.cursor()"
   ]
  },
  {
   "cell_type": "code",
   "execution_count": 5,
   "id": "d90d88c2-887d-47ed-8672-1270e4a52ee2",
   "metadata": {},
   "outputs": [
    {
     "data": {
      "text/plain": [
       "<sqlite3.Cursor at 0x78087369ecc0>"
      ]
     },
     "execution_count": 5,
     "metadata": {},
     "output_type": "execute_result"
    }
   ],
   "source": [
    "cursor.execute('''\n",
    "CREATE TABLE author (\n",
    "    id INTEGER PRIMARY KEY AUTOINCREMENT,\n",
    "    login TEXT NOT NULL,\n",
    "    email TEXT NOT NULL\n",
    ");\n",
    "''')"
   ]
  },
  {
   "cell_type": "code",
   "execution_count": 6,
   "id": "654ff208-294b-4c68-bb47-b7766aa1b461",
   "metadata": {},
   "outputs": [
    {
     "data": {
      "text/plain": [
       "<sqlite3.Cursor at 0x78087369ecc0>"
      ]
     },
     "execution_count": 6,
     "metadata": {},
     "output_type": "execute_result"
    }
   ],
   "source": [
    "cursor.execute('''\n",
    "CREATE TABLE blog (\n",
    "    id INTEGER PRIMARY KEY AUTOINCREMENT,\n",
    "    owner_id INTEGER NOT NULL,\n",
    "    name TEXT NOT NULL,\n",
    "    description TEXT,\n",
    "    FOREIGN KEY (owner_id) REFERENCES author(id)\n",
    ");\n",
    "''')"
   ]
  },
  {
   "cell_type": "code",
   "execution_count": 7,
   "id": "53f35383-9333-48b7-baf3-1bf85107bdd6",
   "metadata": {},
   "outputs": [
    {
     "ename": "OperationalError",
     "evalue": "table blog already exists",
     "output_type": "error",
     "traceback": [
      "\u001b[31m---------------------------------------------------------------------------\u001b[39m",
      "\u001b[31mOperationalError\u001b[39m                          Traceback (most recent call last)",
      "\u001b[36mCell\u001b[39m\u001b[36m \u001b[39m\u001b[32mIn[7]\u001b[39m\u001b[32m, line 1\u001b[39m\n\u001b[32m----> \u001b[39m\u001b[32m1\u001b[39m \u001b[43mcursor\u001b[49m\u001b[43m.\u001b[49m\u001b[43mexecute\u001b[49m\u001b[43m(\u001b[49m\u001b[33;43m'''\u001b[39;49m\n\u001b[32m      2\u001b[39m \u001b[33;43mCREATE TABLE blog (\u001b[39;49m\n\u001b[32m      3\u001b[39m \u001b[33;43m    id INTEGER PRIMARY KEY AUTOINCREMENT,\u001b[39;49m\n\u001b[32m      4\u001b[39m \u001b[33;43m    owner_id INTEGER NOT NULL,\u001b[39;49m\n\u001b[32m      5\u001b[39m \u001b[33;43m    name TEXT NOT NULL,\u001b[39;49m\n\u001b[32m      6\u001b[39m \u001b[33;43m    description TEXT,\u001b[39;49m\n\u001b[32m      7\u001b[39m \u001b[33;43m    FOREIGN KEY (owner_id) REFERENCES author(id)\u001b[39;49m\n\u001b[32m      8\u001b[39m \u001b[33;43m);\u001b[39;49m\n\u001b[32m      9\u001b[39m \u001b[33;43m'''\u001b[39;49m\u001b[43m)\u001b[49m\n",
      "\u001b[31mOperationalError\u001b[39m: table blog already exists"
     ]
    }
   ],
   "source": [
    "cursor.execute('''\n",
    "CREATE TABLE blog (\n",
    "    id INTEGER PRIMARY KEY AUTOINCREMENT,\n",
    "    owner_id INTEGER NOT NULL,\n",
    "    name TEXT NOT NULL,\n",
    "    description TEXT,\n",
    "    FOREIGN KEY (owner_id) REFERENCES author(id)\n",
    ");\n",
    "''')"
   ]
  },
  {
   "cell_type": "code",
   "execution_count": 8,
   "id": "c11b8389-0b76-4e70-a930-0f426a3acdb3",
   "metadata": {},
   "outputs": [
    {
     "data": {
      "text/plain": [
       "<sqlite3.Cursor at 0x78087369ecc0>"
      ]
     },
     "execution_count": 8,
     "metadata": {},
     "output_type": "execute_result"
    }
   ],
   "source": [
    "cursor.execute('''\n",
    "CREATE TABLE post (\n",
    "    id INTEGER PRIMARY KEY AUTOINCREMENT,\n",
    "    header TEXT NOT NULL,\n",
    "    text TEXT NOT NULL,\n",
    "    author_id INTEGER NOT NULL,\n",
    "    blog_id INTEGER NOT NULL,\n",
    "    FOREIGN KEY (author_id) REFERENCES author(id),\n",
    "    FOREIGN KEY (blog_id) REFERENCES blog(id)\n",
    ");\n",
    "''')"
   ]
  },
  {
   "cell_type": "code",
   "execution_count": 9,
   "id": "cfc29c98-0f78-401c-b6ed-ba801e9dfd64",
   "metadata": {},
   "outputs": [],
   "source": [
    "authors.commit()\n",
    "authors.close()"
   ]
  },
  {
   "cell_type": "markdown",
   "id": "a368fdb4-d9c2-4236-b161-0330d225aecd",
   "metadata": {},
   "source": [
    "# Делаем вторую бд"
   ]
  },
  {
   "cell_type": "code",
   "execution_count": 10,
   "id": "0e6532b8-7a7b-4881-a9f5-5c6e75616c2f",
   "metadata": {},
   "outputs": [],
   "source": [
    "posts = sl.connect(\"logs.db\")"
   ]
  },
  {
   "cell_type": "code",
   "execution_count": 11,
   "id": "12afa6a3-fd42-4c82-af6f-e7718103ab03",
   "metadata": {},
   "outputs": [],
   "source": [
    "cursor = posts.cursor()"
   ]
  },
  {
   "cell_type": "code",
   "execution_count": 13,
   "id": "4cc34b83-c3e0-4b01-a21b-ded353210428",
   "metadata": {},
   "outputs": [
    {
     "data": {
      "text/plain": [
       "<sqlite3.Cursor at 0x780872d979c0>"
      ]
     },
     "execution_count": 13,
     "metadata": {},
     "output_type": "execute_result"
    }
   ],
   "source": [
    "cursor.execute('''\n",
    "CREATE TABLE space_type (\n",
    "    id INTEGER PRIMARY KEY AUTOINCREMENT,\n",
    "    name TEXT NOT NULL\n",
    ");\n",
    "''')"
   ]
  },
  {
   "cell_type": "code",
   "execution_count": 14,
   "id": "6aebdb65-cac9-4abb-9af9-07a2de7b0fc3",
   "metadata": {},
   "outputs": [
    {
     "data": {
      "text/plain": [
       "<sqlite3.Cursor at 0x780872d979c0>"
      ]
     },
     "execution_count": 14,
     "metadata": {},
     "output_type": "execute_result"
    }
   ],
   "source": [
    "cursor.execute('''\n",
    "INSERT INTO space_type (name) VALUES ('global'), ('blog'), ('post');\n",
    "''')"
   ]
  },
  {
   "cell_type": "code",
   "execution_count": 15,
   "id": "b3364a02-e6d2-4dcd-8b8e-5659046de6c0",
   "metadata": {},
   "outputs": [
    {
     "data": {
      "text/plain": [
       "<sqlite3.Cursor at 0x780872d979c0>"
      ]
     },
     "execution_count": 15,
     "metadata": {},
     "output_type": "execute_result"
    }
   ],
   "source": [
    "cursor.execute('''\n",
    "CREATE TABLE event_type (\n",
    "    id INTEGER PRIMARY KEY AUTOINCREMENT,\n",
    "    name TEXT NOT NULL\n",
    ");\n",
    "''')"
   ]
  },
  {
   "cell_type": "code",
   "execution_count": 16,
   "id": "f2b90ae7-f7f9-4a30-987c-b26672bf812c",
   "metadata": {},
   "outputs": [
    {
     "data": {
      "text/plain": [
       "<sqlite3.Cursor at 0x780872d979c0>"
      ]
     },
     "execution_count": 16,
     "metadata": {},
     "output_type": "execute_result"
    }
   ],
   "source": [
    "cursor.execute('''\n",
    "INSERT INTO event_type (name) VALUES ('login'), ('comment'), ('create_post'), ('delete_post'), ('logout');\n",
    "''')"
   ]
  },
  {
   "cell_type": "code",
   "execution_count": 17,
   "id": "3061bab5-7499-4f65-87c6-c4ee7ac7cc72",
   "metadata": {},
   "outputs": [
    {
     "data": {
      "text/plain": [
       "<sqlite3.Cursor at 0x780872d979c0>"
      ]
     },
     "execution_count": 17,
     "metadata": {},
     "output_type": "execute_result"
    }
   ],
   "source": [
    "cursor.execute('''\n",
    "CREATE TABLE logs (\n",
    "    id INTEGER PRIMARY KEY AUTOINCREMENT,\n",
    "    datetime DATETIME NOT NULL,\n",
    "    user_id INTEGER NOT NULL,\n",
    "    space_type_id INTEGER NOT NULL,\n",
    "    event_type_id INTEGER NOT NULL,\n",
    "    FOREIGN KEY (space_type_id) REFERENCES space_type(id),\n",
    "    FOREIGN KEY (event_type_id) REFERENCES event_type(id)\n",
    ");\n",
    "''')"
   ]
  },
  {
   "cell_type": "code",
   "execution_count": 18,
   "id": "4290eeba-c3b0-465f-9916-8be448521d77",
   "metadata": {},
   "outputs": [
    {
     "ename": "AttributeError",
     "evalue": "'sqlite3.Cursor' object has no attribute 'commit'",
     "output_type": "error",
     "traceback": [
      "\u001b[31m---------------------------------------------------------------------------\u001b[39m",
      "\u001b[31mAttributeError\u001b[39m                            Traceback (most recent call last)",
      "\u001b[36mCell\u001b[39m\u001b[36m \u001b[39m\u001b[32mIn[18]\u001b[39m\u001b[32m, line 1\u001b[39m\n\u001b[32m----> \u001b[39m\u001b[32m1\u001b[39m \u001b[43mcursor\u001b[49m\u001b[43m.\u001b[49m\u001b[43mcommit\u001b[49m()\n\u001b[32m      2\u001b[39m posts.close()\n",
      "\u001b[31mAttributeError\u001b[39m: 'sqlite3.Cursor' object has no attribute 'commit'"
     ]
    }
   ],
   "source": [
    "post.commit()\n",
    "posts.close()"
   ]
  }
 ],
 "metadata": {
  "kernelspec": {
   "display_name": "Python 3 (ipykernel)",
   "language": "python",
   "name": "python3"
  },
  "language_info": {
   "codemirror_mode": {
    "name": "ipython",
    "version": 3
   },
   "file_extension": ".py",
   "mimetype": "text/x-python",
   "name": "python",
   "nbconvert_exporter": "python",
   "pygments_lexer": "ipython3",
   "version": "3.13.1"
  }
 },
 "nbformat": 4,
 "nbformat_minor": 5
}
