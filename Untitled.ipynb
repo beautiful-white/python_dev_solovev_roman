{
 "cells": [
  {
   "cell_type": "code",
   "execution_count": 2,
   "id": "852659d0-810f-4166-938e-902bc6fd90f4",
   "metadata": {},
   "outputs": [],
   "source": [
    "import sqlite3 as sl"
   ]
  },
  {
   "cell_type": "code",
   "execution_count": 3,
   "id": "13ddeea6-06ab-415b-9993-94822560a3c2",
   "metadata": {},
   "outputs": [],
   "source": [
    "authors = sl.connect(\"authors_database.db\")"
   ]
  },
  {
   "cell_type": "code",
   "execution_count": 4,
   "id": "1e0a8230-1c3f-4632-b742-5e11bf8b8101",
   "metadata": {},
   "outputs": [],
   "source": [
    "cursor = authors.cursor()"
   ]
  },
  {
   "cell_type": "code",
   "execution_count": 5,
   "id": "d90d88c2-887d-47ed-8672-1270e4a52ee2",
   "metadata": {},
   "outputs": [
    {
     "data": {
      "text/plain": [
       "<sqlite3.Cursor at 0x78087369ecc0>"
      ]
     },
     "execution_count": 5,
     "metadata": {},
     "output_type": "execute_result"
    }
   ],
   "source": [
    "cursor.execute('''\n",
    "CREATE TABLE author (\n",
    "    id INTEGER PRIMARY KEY AUTOINCREMENT,\n",
    "    login TEXT NOT NULL,\n",
    "    email TEXT NOT NULL\n",
    ");\n",
    "''')"
   ]
  },
  {
   "cell_type": "code",
   "execution_count": null,
   "id": "654ff208-294b-4c68-bb47-b7766aa1b461",
   "metadata": {},
   "outputs": [],
   "source": [
    "cursor.execute()"
   ]
  },
  {
   "cell_type": "code",
   "execution_count": null,
   "id": "53f35383-9333-48b7-baf3-1bf85107bdd6",
   "metadata": {},
   "outputs": [],
   "source": []
  },
  {
   "cell_type": "code",
   "execution_count": null,
   "id": "c11b8389-0b76-4e70-a930-0f426a3acdb3",
   "metadata": {},
   "outputs": [],
   "source": []
  },
  {
   "cell_type": "code",
   "execution_count": null,
   "id": "cfc29c98-0f78-401c-b6ed-ba801e9dfd64",
   "metadata": {},
   "outputs": [],
   "source": []
  },
  {
   "cell_type": "code",
   "execution_count": null,
   "id": "2b32d2d0-d29e-449f-be8d-191ab3a91bef",
   "metadata": {},
   "outputs": [],
   "source": []
  },
  {
   "cell_type": "code",
   "execution_count": null,
   "id": "12afa6a3-fd42-4c82-af6f-e7718103ab03",
   "metadata": {},
   "outputs": [],
   "source": []
  }
 ],
 "metadata": {
  "kernelspec": {
   "display_name": "Python 3 (ipykernel)",
   "language": "python",
   "name": "python3"
  },
  "language_info": {
   "codemirror_mode": {
    "name": "ipython",
    "version": 3
   },
   "file_extension": ".py",
   "mimetype": "text/x-python",
   "name": "python",
   "nbconvert_exporter": "python",
   "pygments_lexer": "ipython3",
   "version": "3.13.1"
  }
 },
 "nbformat": 4,
 "nbformat_minor": 5
}
